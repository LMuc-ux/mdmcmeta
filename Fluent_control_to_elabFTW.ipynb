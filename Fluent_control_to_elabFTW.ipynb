{
  "nbformat": 4,
  "nbformat_minor": 0,
  "metadata": {
    "colab": {
      "provenance": [],
      "authorship_tag": "ABX9TyPD1WXBpP0zSm/M85swHLAD",
      "include_colab_link": true
    },
    "kernelspec": {
      "name": "python3",
      "display_name": "Python 3"
    },
    "language_info": {
      "name": "python"
    }
  },
  "cells": [
    {
      "cell_type": "markdown",
      "metadata": {
        "id": "view-in-github",
        "colab_type": "text"
      },
      "source": [
        "<a href=\"https://colab.research.google.com/github/LMuc-ux/mdmcmeta/blob/main/Fluent_control_to_elabFTW.ipynb\" target=\"_parent\"><img src=\"https://colab.research.google.com/assets/colab-badge.svg\" alt=\"Open In Colab\"/></a>"
      ]
    },
    {
      "cell_type": "code",
      "execution_count": null,
      "metadata": {
        "colab": {
          "base_uri": "https://localhost:8080/"
        },
        "id": "7RIQ8eOrpKnY",
        "outputId": "9eebd8b0-1458-4800-8df4-de3819fb383c"
      },
      "outputs": [
        {
          "output_type": "stream",
          "name": "stdout",
          "text": [
            "['.config', 'sample_data']\n"
          ]
        }
      ],
      "source": [
        "import requests\n",
        "import json\n",
        "import pandas as pd\n",
        "\n",
        "# Define elabFTW API URL and credentials (replace with your actual values)\n",
        "ELABFTW_URL = \"your_elabftw_instance_url\"  # e.g., \"https://elabftw.yourdomain.com\"\n",
        "ELABFTW_TOKEN = \"your_elabftw_api_token\"\n",
        "\n",
        "# Function to create an elabFTW experiment\n",
        "def create_experiment(title, description):\n",
        "    \"\"\"\n",
        "    Creates a new experiment in elabFTW.\n",
        "\n",
        "    Args:\n",
        "        title (str): Title of the experiment.\n",
        "        description (str): Description of the experiment.\n",
        "\n",
        "    Returns:\n",
        "        int: The ID of the created experiment, or None if creation failed.\n",
        "    \"\"\"\n",
        "\n",
        "    url = f\"{ELABFTW_URL}/api/v1/experiments.json\"\n",
        "    headers = {\n",
        "        \"Authorization\": f\"Bearer {ELABFTW_TOKEN}\",\n",
        "        \"Content-Type\": \"application/json\",\n",
        "    }\n",
        "    payload = {\"title\": title, \"description\": description}\n",
        "\n",
        "    try:\n",
        "        response = requests.post(url, headers=headers, data=json.dumps(payload))\n",
        "        response.raise_for_status()  # Raise an exception for bad status codes (4xx or 5xx)\n",
        "        return response.json()[\"id\"]\n",
        "    except requests.exceptions.RequestException as e:\n",
        "        print(f\"Error creating experiment: {e}\")\n",
        "        return None\n",
        "\n",
        "# Function to upload data to an elabFTW experiment\n",
        "def upload_data_to_experiment(experiment_id, data, filename=\"tecan_data.json\"):\n",
        "    \"\"\"\n",
        "    Uploads data to an existing experiment in elabFTW.\n",
        "\n",
        "    Args:\n",
        "        experiment_id (int): The ID of the elabFTW experiment.\n",
        "        data (dict or list): The data to upload.\n",
        "        filename (str, optional): The filename to use in elabFTW. Defaults to \"tecan_data.json\".\n",
        "    \"\"\"\n",
        "\n",
        "    url = f\"{ELABFTW_URL}/api/v1/experiments/{experiment_id}/datablocks.json\"\n",
        "    headers = {\n",
        "        \"Authorization\": f\"Bearer {ELABFTW_TOKEN}\",\n",
        "    }\n",
        "    payload = {\"content\": json.dumps(data), \"filename\": filename}\n",
        "\n",
        "    try:\n",
        "        response = requests.post(url, headers=headers, data=payload)\n",
        "        response.raise_for_status()\n",
        "        print(f\"Data uploaded to experiment {experiment_id} successfully.\")\n",
        "    except requests.exceptions.RequestException as e:\n",
        "        print(f\"Error uploading data to experiment {experiment_id}: {e}\")\n",
        "\n",
        "# Load TECAN data from file\n",
        "def load_tecan_data(filepath):\n",
        "    \"\"\"\n",
        "    Loads TECAN data from a file.  Assumes a CSV-like structure based on your example.\n",
        "    Adjust as needed for your actual TECAN output format.\n",
        "\n",
        "    Args:\n",
        "        filepath (str): Path to the TECAN data file.\n",
        "\n",
        "    Returns:\n",
        "        dict:  A dictionary representing the TECAN data.\n",
        "    \"\"\"\n",
        "\n",
        "    try:\n",
        "        df = pd.read_csv(filepath, sep=';')  # Adjust 'sep' if needed\n",
        "        data = df.to_dict(orient='records')\n",
        "        return data\n",
        "    except FileNotFoundError:\n",
        "        print(f\"Error: File not found at {filepath}\")\n",
        "        return None\n",
        "    except Exception as e:\n",
        "        print(f\"Error loading TECAN data: {e}\")\n",
        "        return None\n",
        "\n",
        "if __name__ == '__main__':\n",
        "    # 1. Load TECAN data\n",
        "    tecan_data = load_tecan_data(\"VariabiliCelero.txt\")  # Replace with your file path\n",
        "    if tecan_data is None:\n",
        "        exit()\n",
        "\n",
        "    # 2. Create a new elabFTW experiment\n",
        "    experiment_title = \"TECAN Run - Celero Data\"\n",
        "    experiment_description = \"Data from a TECAN run processing Celero samples.\"\n",
        "    experiment_id = create_experiment(experiment_title, experiment_description)\n",
        "\n",
        "    if experiment_id is None:\n",
        "        exit()\n",
        "\n",
        "    # 3. Upload the TECAN data to the experiment\n",
        "    upload_data_to_experiment(experiment_id, tecan_data, \"celero_data.json\")\n",
        "    #upload_data_to_experiment(experiment_id, tecan_data, \"celero_data.csv\")  #If you want csv\n",
        "    #upload_data_to_experiment(experiment_id, tecan_data, \"celero_data.txt\")  #If you want txt"
      ]
    }
  ]
}