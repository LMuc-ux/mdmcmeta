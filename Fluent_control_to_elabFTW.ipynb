{
  "nbformat": 4,
  "nbformat_minor": 0,
  "metadata": {
    "colab": {
      "provenance": [],
      "authorship_tag": "ABX9TyNdGwwY3qyJwNZEr93hEeF7",
      "include_colab_link": true
    },
    "kernelspec": {
      "name": "python3",
      "display_name": "Python 3"
    },
    "language_info": {
      "name": "python"
    }
  },
  "cells": [
    {
      "cell_type": "markdown",
      "metadata": {
        "id": "view-in-github",
        "colab_type": "text"
      },
      "source": [
        "<a href=\"https://colab.research.google.com/github/LMuc-ux/mdmcmeta/blob/main/Fluent_control_to_elabFTW.ipynb\" target=\"_parent\"><img src=\"https://colab.research.google.com/assets/colab-badge.svg\" alt=\"Open In Colab\"/></a>"
      ]
    },
    {
      "cell_type": "code",
      "execution_count": null,
      "metadata": {
        "colab": {
          "base_uri": "https://localhost:8080/"
        },
        "id": "7RIQ8eOrpKnY",
        "outputId": "9eebd8b0-1458-4800-8df4-de3819fb383c"
      },
      "outputs": [
        {
          "output_type": "stream",
          "name": "stdout",
          "text": [
            "['.config', 'sample_data']\n"
          ]
        }
      ],
      "source": [
        "from decos_elabftw import ElabFTWAPI\n",
        "import os\n",
        "from datetime import datetime\n",
        "\n",
        "elab = ElabFTWAPI(\n",
        "    base_url='The base URL of the ElabFTW instance',\n",
        "    api_key='Your API key for authentication'\n",
        ")\n",
        "\n",
        "CURRENT_DAY = datetime.now().strftime(\"%Y-%m-%d\")\n",
        "DATA_DIR = f\"tecan_files/{CURRENT_DAY}\"\n",
        "\n",
        "#scan the directory for txt files inside\n",
        "txt_files = [f for f in os.listdir(DATA_DIR) if os.path.isfile(os.path.join(DATA_DIR, f))]\n",
        "\n",
        "for file in txt_files:\n",
        "    experiment = elab.create_experiment({\"body\": {}}) #create an empty experiment\n",
        "    experiment_id = experiment['id']\n",
        "    # open the txt file and parse it (it has two rows, the first one is the header, the second one is the data; the delimiter is \";\" and i want to create an\n",
        "    # html table with the data)\n",
        "    with open(os.path.join(DATA_DIR, file), 'r') as f:\n",
        "        lines = f.readlines()\n",
        "        header = lines[0].strip().split(';')\n",
        "        data = lines[1].strip().split(';')\n",
        "        # create the html table\n",
        "        html_table = \"<table><tr>\"\n",
        "        for h in header:\n",
        "            html_table += f\"<th>{h}</th>\"\n",
        "        html_table += \"</tr><tr>\"\n",
        "        for d in data:\n",
        "            html_table += f\"<td>{d}</td>\"\n",
        "        html_table += \"</tr></table>\"\n",
        "\n",
        "    elab.add_to_body_of_experiment(experiment_id, html_table) #add the html table to the experiment\n"
      ]
    }
  ]
}